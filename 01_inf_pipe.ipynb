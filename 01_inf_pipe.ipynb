{
 "cells": [
  {
   "cell_type": "markdown",
   "id": "e58bc4ea-298b-4f41-a6a9-acaa51d52cce",
   "metadata": {},
   "source": [
    "## Label compilation pipeline\n",
    "\n",
    "- This notebook will provide the functionality to generate and compile different labels into file(s)"
   ]
  },
  {
   "cell_type": "code",
   "execution_count": null,
   "id": "1258124d-ff7b-4728-884d-a8c6ab14108c",
   "metadata": {},
   "outputs": [],
   "source": [
    "from transformers import Blip2Processor, Blip2ForConditionalGeneration\n",
    "from pathlib import Path\n",
    "import pandas as pd\n",
    "from PIL import Image\n",
    "import itertools\n",
    "import torch\n",
    "import os"
   ]
  },
  {
   "cell_type": "code",
   "execution_count": null,
   "id": "f484444b-633b-44d6-b3d1-172f6ca15370",
   "metadata": {},
   "outputs": [],
   "source": [
    "def get_model(model_name, device='cuda'):\n",
    "    processor = Blip2Processor.from_pretrained(model_name)\n",
    "    model = Blip2ForConditionalGeneration.from_pretrained(\n",
    "                            model_name, \n",
    "                            ).to(device)\n",
    "    return model, processor\n",
    "\n",
    "\n",
    "def get_file_names(path, extension='.jpg'): \n",
    "    return [file_name for file_name in os.listdir(path) if file_name[-4:] == '.png']\n",
    "\n",
    "\n",
    "def get_img_paths(folder_path, img_names):\n",
    "     return [str(folder_path) + '/' + img_name for img_name in img_names]\n",
    "    \n",
    "\n",
    "def get_imgs(img_paths): return [Image.open(path) for path in img_paths]\n",
    "\n",
    "\n",
    "def get_lbls(images, processor, model, device=None):\n",
    "    if device is None: device = 'cuda' if torch.cuda.is_available() else 'cpu'\n",
    "    inputs = processor(images=images, return_tensors='pt').to(device, torch.float32)\n",
    "    generated_ids = model.generate(**inputs)\n",
    "    return processor.batch_decode(generated_ids, skip_special_tokens=True)\n",
    "\n",
    "def get_batch_idxs(img_paths, batch_size=10):\n",
    "    idxs = [x for x in range(0, len(img_paths)+1, batch_size)]\n",
    "    if len(img_paths) % batch_size != 0:\n",
    "        last_idx = len(img_paths) - 1\n",
    "        idxs.append(last_idx + 1)\n",
    "    idx_tuples = [(idxs[x-1], idxs[x]) for x in range(1, len(idxs))]\n",
    "    return idx_tuples\n",
    "\n",
    "def get_batch(img_paths, idx_tup): \n",
    "        return get_imgs(img_paths[idx_tup[0] : idx_tup[1]])\n",
    "    \n",
    "\n",
    "def run_inf(img_paths, processor, model, device=None, batch_size=10):\n",
    "    if device is None: device = 'cuda' if torch.cuda.is_available() else 'cpu'\n",
    "    idxs = get_batch_idxs(img_paths)\n",
    "    return list(itertools.chain(*[get_lbls(get_batch(img_paths, idx_tup), processor, model, device) \\\n",
    "                                  for idx_tup in get_batch_idxs(img_paths)]))"
   ]
  },
  {
   "cell_type": "code",
   "execution_count": null,
   "id": "43923724-5296-4029-8a6b-ee4aff50500a",
   "metadata": {},
   "outputs": [
    {
     "data": {
      "text/plain": [
       "['data/campaign2/0021/image_0021835.png',\n",
       " 'data/campaign2/0021/image_0021801.png',\n",
       " 'data/campaign2/0021/background_0021520.png']"
      ]
     },
     "execution_count": null,
     "metadata": {},
     "output_type": "execute_result"
    }
   ],
   "source": [
    "img_folder = Path('data/campaign2/0021')\n",
    "img_names = get_file_names(img_folder)\n",
    "img_paths = get_img_paths(img_folder, img_names)\n",
    "img_paths[:3]"
   ]
  },
  {
   "cell_type": "code",
   "execution_count": null,
   "id": "517dc730-9ff5-44e4-ae42-d22b6bcc4b97",
   "metadata": {},
   "outputs": [],
   "source": [
    "#model_name = 'Salesforce/blip2-flan-t5-xl-coco'\n",
    "#model_name = 'Salesforce/blip2-opt-2.7b'\n",
    "#device = 'cuda'\n",
    "#model, processor = get_model(model_name, device=device)"
   ]
  },
  {
   "cell_type": "code",
   "execution_count": null,
   "id": "b99065bf-cf1a-4215-91ce-cc3b8759a486",
   "metadata": {},
   "outputs": [],
   "source": [
    "#lbls = run_inf(img_paths, processor,model)\n",
    "#len(lbls), lbls[:3]"
   ]
  },
  {
   "cell_type": "code",
   "execution_count": null,
   "id": "d8cec4a1-3576-4190-b9bc-f9dcbaaa7f7f",
   "metadata": {},
   "outputs": [],
   "source": [
    "#model_base = model_name.split('/')[1]\n",
    "#model_base"
   ]
  },
  {
   "cell_type": "code",
   "execution_count": null,
   "id": "3b11536b-563a-49dc-ab6a-efb17e5fffb5",
   "metadata": {},
   "outputs": [],
   "source": [
    "#pd.DataFrame(zip(img_paths[:73], lbls), columns=['img_path', 'label'] \\\n",
    "#            ).to_csv(f'{model_base}.csv', index=False)"
   ]
  },
  {
   "cell_type": "code",
   "execution_count": null,
   "id": "3bd4858f-c53e-4657-b536-1901d466a723",
   "metadata": {},
   "outputs": [],
   "source": [
    "#pd.read_csv(model_base + '.csv').head(3)"
   ]
  },
  {
   "cell_type": "markdown",
   "id": "3c370caa-8350-4835-97c8-5ca463fa2a9c",
   "metadata": {},
   "source": [
    "Looks like it works! lets wrap all of this into a single function and start compiling some labels!\n",
    "\n",
    "* the models are HUGE, so will have to restart notebook between model runs *"
   ]
  },
  {
   "cell_type": "code",
   "execution_count": null,
   "id": "70fbff3c-5757-4b44-9795-aa880f160488",
   "metadata": {},
   "outputs": [],
   "source": [
    "def compile_lbls(img_paths, model_name, batch_size=10):\n",
    "    device = 'cuda' if torch.cuda.is_available() else 'cpu'\n",
    "    model, processor = get_model(model_name, device=device)\n",
    "    model_base = model_name.split('/')[1]\n",
    "    lbls = run_inf(img_paths, processor, model, device, batch_size=25)\n",
    "    pd.DataFrame(zip(img_paths, lbls), columns=['img_path', 'label'] \\\n",
    "            ).to_csv(f'{model_base}.csv', index=False)"
   ]
  },
  {
   "cell_type": "code",
   "execution_count": null,
   "id": "47e11723-523d-4e75-a911-12dfb9993616",
   "metadata": {},
   "outputs": [
    {
     "data": {
      "application/vnd.jupyter.widget-view+json": {
       "model_id": "2c2848f1196b4775a6dd598696242283",
       "version_major": 2,
       "version_minor": 0
      },
      "text/plain": [
       "Downloading (…)rocessor_config.json:   0%|          | 0.00/432 [00:00<?, ?B/s]"
      ]
     },
     "metadata": {},
     "output_type": "display_data"
    },
    {
     "data": {
      "application/vnd.jupyter.widget-view+json": {
       "model_id": "dec6c4e1ef38410cbe22832151cfe3c0",
       "version_major": 2,
       "version_minor": 0
      },
      "text/plain": [
       "Downloading (…)okenizer_config.json:   0%|          | 0.00/2.54k [00:00<?, ?B/s]"
      ]
     },
     "metadata": {},
     "output_type": "display_data"
    },
    {
     "data": {
      "application/vnd.jupyter.widget-view+json": {
       "model_id": "530800c78db140589fa077c13a726f6d",
       "version_major": 2,
       "version_minor": 0
      },
      "text/plain": [
       "Downloading (…)\"spiece.model\";:   0%|          | 0.00/792k [00:00<?, ?B/s]"
      ]
     },
     "metadata": {},
     "output_type": "display_data"
    },
    {
     "data": {
      "application/vnd.jupyter.widget-view+json": {
       "model_id": "6379aa9d1d174556bd43512b9b7dd7cf",
       "version_major": 2,
       "version_minor": 0
      },
      "text/plain": [
       "Downloading (…)/main/tokenizer.json:   0%|          | 0.00/2.42M [00:00<?, ?B/s]"
      ]
     },
     "metadata": {},
     "output_type": "display_data"
    },
    {
     "data": {
      "application/vnd.jupyter.widget-view+json": {
       "model_id": "826d6a8ea65b40f5ba88616ae777a0c5",
       "version_major": 2,
       "version_minor": 0
      },
      "text/plain": [
       "Downloading (…)cial_tokens_map.json:   0%|          | 0.00/2.20k [00:00<?, ?B/s]"
      ]
     },
     "metadata": {},
     "output_type": "display_data"
    },
    {
     "data": {
      "application/vnd.jupyter.widget-view+json": {
       "model_id": "e7d4157347ed40848ed6eb037347f405",
       "version_major": 2,
       "version_minor": 0
      },
      "text/plain": [
       "Downloading (…)lve/main/config.json:   0%|          | 0.00/7.68k [00:00<?, ?B/s]"
      ]
     },
     "metadata": {},
     "output_type": "display_data"
    },
    {
     "data": {
      "application/vnd.jupyter.widget-view+json": {
       "model_id": "4c2e9be1fb75420a9fa94ba30ef1d6f4",
       "version_major": 2,
       "version_minor": 0
      },
      "text/plain": [
       "Downloading (…)model.bin.index.json:   0%|          | 0.00/128k [00:00<?, ?B/s]"
      ]
     },
     "metadata": {},
     "output_type": "display_data"
    },
    {
     "data": {
      "application/vnd.jupyter.widget-view+json": {
       "model_id": "7ef67c8c51414d5ea545e1796a31758a",
       "version_major": 2,
       "version_minor": 0
      },
      "text/plain": [
       "Downloading (…)00001-of-00002.bin\";:   0%|          | 0.00/9.44G [00:00<?, ?B/s]"
      ]
     },
     "metadata": {},
     "output_type": "display_data"
    },
    {
     "data": {
      "application/vnd.jupyter.widget-view+json": {
       "model_id": "28cd8425573846f1b50b37ac214738ed",
       "version_major": 2,
       "version_minor": 0
      },
      "text/plain": [
       "Downloading (…)00002-of-00002.bin\";:   0%|          | 0.00/6.33G [00:00<?, ?B/s]"
      ]
     },
     "metadata": {},
     "output_type": "display_data"
    },
    {
     "data": {
      "application/vnd.jupyter.widget-view+json": {
       "model_id": "d1b1dca4da7e403d828024a30a8b85b6",
       "version_major": 2,
       "version_minor": 0
      },
      "text/plain": [
       "Loading checkpoint shards:   0%|          | 0/2 [00:00<?, ?it/s]"
      ]
     },
     "metadata": {},
     "output_type": "display_data"
    },
    {
     "name": "stderr",
     "output_type": "stream",
     "text": [
      "/home/azaidi/anaconda3/envs/dl/lib/python3.10/site-packages/transformers/generation/utils.py:1284: UserWarning: Using `max_length`'s default (20) to control the generation length. This behaviour is deprecated and will be removed from the config in v5 of Transformers -- we recommend using `max_new_tokens` to control the maximum length of the generation.\n",
      "  warnings.warn(\n"
     ]
    }
   ],
   "source": [
    "model_name = 'Salesforce/blip2-flan-t5-xl'\n",
    "#model_name = 'Salesforce/blip2-opt-2.7b'\n",
    "compile_lbls(img_paths, model_name)"
   ]
  },
  {
   "cell_type": "code",
   "execution_count": null,
   "id": "a4623238-9c0b-460b-8c5c-00ec7718de11",
   "metadata": {},
   "outputs": [
    {
     "data": {
      "text/html": [
       "<div>\n",
       "<style scoped>\n",
       "    .dataframe tbody tr th:only-of-type {\n",
       "        vertical-align: middle;\n",
       "    }\n",
       "\n",
       "    .dataframe tbody tr th {\n",
       "        vertical-align: top;\n",
       "    }\n",
       "\n",
       "    .dataframe thead th {\n",
       "        text-align: right;\n",
       "    }\n",
       "</style>\n",
       "<table border=\"1\" class=\"dataframe\">\n",
       "  <thead>\n",
       "    <tr style=\"text-align: right;\">\n",
       "      <th></th>\n",
       "      <th>img_path</th>\n",
       "      <th>label</th>\n",
       "    </tr>\n",
       "  </thead>\n",
       "  <tbody>\n",
       "    <tr>\n",
       "      <th>0</th>\n",
       "      <td>data/campaign2/0021/image_0021835.png</td>\n",
       "      <td>a green cylinder sitting on a dirt road</td>\n",
       "    </tr>\n",
       "    <tr>\n",
       "      <th>1</th>\n",
       "      <td>data/campaign2/0021/image_0021801.png</td>\n",
       "      <td>a green pipe is sitting on the ground in a dir...</td>\n",
       "    </tr>\n",
       "    <tr>\n",
       "      <th>2</th>\n",
       "      <td>data/campaign2/0021/background_0021520.png</td>\n",
       "      <td>a wooden planter with plants in it</td>\n",
       "    </tr>\n",
       "  </tbody>\n",
       "</table>\n",
       "</div>"
      ],
      "text/plain": [
       "                                     img_path  \\\n",
       "0       data/campaign2/0021/image_0021835.png   \n",
       "1       data/campaign2/0021/image_0021801.png   \n",
       "2  data/campaign2/0021/background_0021520.png   \n",
       "\n",
       "                                               label  \n",
       "0            a green cylinder sitting on a dirt road  \n",
       "1  a green pipe is sitting on the ground in a dir...  \n",
       "2                 a wooden planter with plants in it  "
      ]
     },
     "execution_count": null,
     "metadata": {},
     "output_type": "execute_result"
    }
   ],
   "source": [
    "model_base = model_name.split('/')[1]\n",
    "df = pd.read_csv(model_base + '.csv')\n",
    "df.head(3)"
   ]
  },
  {
   "cell_type": "code",
   "execution_count": null,
   "id": "d8d64ec7-3b6a-4996-bdf7-ce801b6c1bd8",
   "metadata": {},
   "outputs": [
    {
     "data": {
      "text/plain": [
       "(1100, 2)"
      ]
     },
     "execution_count": null,
     "metadata": {},
     "output_type": "execute_result"
    }
   ],
   "source": [
    "df.shape"
   ]
  },
  {
   "cell_type": "markdown",
   "id": "4326d5de-e4c6-4881-a6f3-22e9ab4d5904",
   "metadata": {},
   "source": [
    "## TO-DO:\n",
    "\n",
    "- lets add nbdev/quatro support!\n",
    "- ^this will alllow for cleaner code base and for running things from the terminal vs in notebooks --> which will allow for multiple runs back to back vs having to restart notebook bc of memory being held"
   ]
  },
  {
   "cell_type": "code",
   "execution_count": null,
   "id": "20b3823e-20cf-4edd-bf62-a22c063e8f18",
   "metadata": {},
   "outputs": [],
   "source": []
  }
 ],
 "metadata": {
  "kernelspec": {
   "display_name": "Python 3 (ipykernel)",
   "language": "python",
   "name": "python3"
  }
 },
 "nbformat": 4,
 "nbformat_minor": 5
}
