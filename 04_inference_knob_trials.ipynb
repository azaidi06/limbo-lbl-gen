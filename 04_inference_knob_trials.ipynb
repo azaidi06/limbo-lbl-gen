{
 "cells": [
  {
   "cell_type": "markdown",
   "id": "769b3917-c242-4c87-9b87-532a6e5c179d",
   "metadata": {},
   "source": [
    "This notebook will be used to try out different parameters for our BLIP model -- we'll be able to get a better sense of how certain parameters interact with one another.\n",
    "\n",
    "https://huggingface.co/spaces/Salesforce/BLIP2 shows some of the potential parameters\n",
    "\n",
    "- beam search vs nucleus sampling for our text decoding method\n",
    "- temperature or (different) penalties \n",
    "\n",
    "This notebook from the transformers team (from the book they published) will help explicate some of these parameters and provide intuition on how/why things might change due to them"
   ]
  },
  {
   "cell_type": "code",
   "execution_count": null,
   "id": "903a03c2-5135-41cf-b3af-3a3590e59a0a",
   "metadata": {},
   "outputs": [],
   "source": []
  }
 ],
 "metadata": {
  "kernelspec": {
   "display_name": "python3",
   "language": "python",
   "name": "python3"
  }
 },
 "nbformat": 4,
 "nbformat_minor": 5
}
